{
  "nbformat": 4,
  "nbformat_minor": 0,
  "metadata": {
    "colab": {
      "name": "Building your first bot.ipynb",
      "provenance": [],
      "toc_visible": true
    },
    "kernelspec": {
      "name": "python3",
      "display_name": "Python 3"
    },
    "accelerator": "GPU"
  },
  "cells": [
    {
      "cell_type": "markdown",
      "metadata": {
        "id": "4w09KXCjUUYz",
        "colab_type": "text"
      },
      "source": [
        "**type of chat boot** two type\n",
        " \n",
        "1. Generative\n",
        "\n",
        "2. retrieval\n",
        "\n",
        "**type of question**\n",
        "\n",
        "1.open domain \n",
        "\n",
        "2.close domain"
      ]
    },
    {
      "cell_type": "code",
      "metadata": {
        "id": "12696EStbNEk",
        "colab_type": "code",
        "colab": {}
      },
      "source": [
        "# Load data preprocessing libs\n",
        "import pandas as pd\n",
        "import numpy as np\n",
        "\n",
        "# Load vectorizer and similarity measure\n",
        "from sklearn.feature_extraction.text import TfidfVectorizer\n",
        "from sklearn.metrics.pairwise import cosine_similarity\n"
      ],
      "execution_count": 0,
      "outputs": []
    },
    {
      "cell_type": "markdown",
      "metadata": {
        "id": "XEeCD5nJbfjZ",
        "colab_type": "text"
      },
      "source": [
        "## Read the data"
      ]
    },
    {
      "cell_type": "code",
      "metadata": {
        "id": "gqyIjv31bNCO",
        "colab_type": "code",
        "colab": {}
      },
      "source": [
        "# Read data and drop examples that has no answer\n",
        "df = pd.read_csv(\"aws_faq.csv\")\n",
        "df.dropna(inplace=True)"
      ],
      "execution_count": 0,
      "outputs": []
    },
    {
      "cell_type": "markdown",
      "metadata": {
        "id": "jqI_ALbdbmzD",
        "colab_type": "text"
      },
      "source": [
        "## Train the vectorizer"
      ]
    },
    {
      "cell_type": "code",
      "metadata": {
        "id": "STWFOkDHbNAH",
        "colab_type": "code",
        "outputId": "7cccffc6-9d9b-4727-ce6a-b4215e67870b",
        "colab": {
          "base_uri": "https://localhost:8080/",
          "height": 136
        }
      },
      "source": [
        "vectorizer = TfidfVectorizer()\n",
        "vectorizer.fit(np.concatenate((df.Question, df.Answer)))"
      ],
      "execution_count": 0,
      "outputs": [
        {
          "output_type": "execute_result",
          "data": {
            "text/plain": [
              "TfidfVectorizer(analyzer='word', binary=False, decode_error='strict',\n",
              "                dtype=<class 'numpy.float64'>, encoding='utf-8',\n",
              "                input='content', lowercase=True, max_df=1.0, max_features=None,\n",
              "                min_df=1, ngram_range=(1, 1), norm='l2', preprocessor=None,\n",
              "                smooth_idf=True, stop_words=None, strip_accents=None,\n",
              "                sublinear_tf=False, token_pattern='(?u)\\\\b\\\\w\\\\w+\\\\b',\n",
              "                tokenizer=None, use_idf=True, vocabulary=None)"
            ]
          },
          "metadata": {
            "tags": []
          },
          "execution_count": 3
        }
      ]
    },
    {
      "cell_type": "markdown",
      "metadata": {
        "id": "iSOvGXJzbscS",
        "colab_type": "text"
      },
      "source": [
        "## Vectorize questions"
      ]
    },
    {
      "cell_type": "code",
      "metadata": {
        "id": "SLsZtAopbM9t",
        "colab_type": "code",
        "colab": {}
      },
      "source": [
        "Question_vectors = vectorizer.transform(df.Question)"
      ],
      "execution_count": 0,
      "outputs": []
    },
    {
      "cell_type": "markdown",
      "metadata": {
        "id": "TbpjuAxTbyFX",
        "colab_type": "text"
      },
      "source": [
        "## Chat with the user"
      ]
    },
    {
      "cell_type": "code",
      "metadata": {
        "id": "50rRyAbabM3v",
        "colab_type": "code",
        "colab": {}
      },
      "source": [
        "print(\"You can start chatting with me now.\")\n",
        "while True:\n",
        "    # Read user input\n",
        "    input_question = input()\n",
        "\n",
        "    # Locate the closest question\n",
        "    input_question_vector = vectorizer.transform([input_question])\n",
        "\n",
        "    # Compute similarities\n",
        "    similarities = cosine_similarity(input_question_vector, Question_vectors)\n",
        "\n",
        "    # Find the closest question\n",
        "    closest = np.argmax(similarities, axis=1)\n",
        "\n",
        "    # Print the correct answer\n",
        "    print(\"BOT: \" + df.Answer.iloc[closest].values[0])"
      ],
      "execution_count": 0,
      "outputs": []
    },
    {
      "cell_type": "code",
      "metadata": {
        "id": "8NuMWMdyUP53",
        "colab_type": "code",
        "colab": {}
      },
      "source": [
        ""
      ],
      "execution_count": 0,
      "outputs": []
    }
  ]
}